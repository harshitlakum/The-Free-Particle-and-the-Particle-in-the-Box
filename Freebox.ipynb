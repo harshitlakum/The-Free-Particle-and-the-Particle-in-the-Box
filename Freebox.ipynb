{
 "cells": [
  {
   "cell_type": "markdown",
   "id": "c215698e",
   "metadata": {},
   "source": [
    "# <span style=\"color:#94C154\">  The free particle and the particle in the box </span>"
   ]
  },
  {
   "cell_type": "markdown",
   "id": "3ca61c7d",
   "metadata": {},
   "source": [
    "In this Jupyter notebook, we will look at the wave functions for the two model systems **free particle** and **particle in box**."
   ]
  },
  {
   "cell_type": "code",
   "execution_count": 1,
   "id": "324a5816",
   "metadata": {},
   "outputs": [],
   "source": [
    "import numpy as np\n",
    "from numpy import pi\n",
    "import matplotlib.pyplot as plt\n",
    "import ipywidgets as widgets\n",
    "from IPython.display import display, clear_output"
   ]
  },
  {
   "cell_type": "markdown",
   "id": "a46c49ec",
   "metadata": {},
   "source": [
    "## <span style=\"color:#F6A800\"> **I.** The free particle </span>\n",
    "\n",
    "In UE1, we have already seen a free particle. In brief, the free particle is called \"free particle\" because in this model system there is no potential, and the particle can move completely free:\n",
    "\n",
    "$$ V = 0 $$\n",
    "\n",
    "Its energy consists only of the kinetic energy.\n"
   ]
  },
  {
   "cell_type": "markdown",
   "id": "5162a7ef",
   "metadata": {},
   "source": [
    "### <span style=\"color:#F6A800\"> **I.1** The free particle in one dimension </span>\n",
    "\n",
    "First, we consider one dimension, that is, the $x$ axis."
   ]
  },
  {
   "cell_type": "code",
   "execution_count": 2,
   "id": "8ffe5c87",
   "metadata": {},
   "outputs": [],
   "source": [
    "#one dimensional space\n",
    "def box_1D():\n",
    "    x = np.linspace(-12,12,500)\n",
    "    return x"
   ]
  },
  {
   "cell_type": "markdown",
   "id": "ef9b02cf",
   "metadata": {},
   "source": [
    "The wave function of the free particle in one dimension is\n",
    "$$ \\Psi(x) = e^{i k x} $$\n",
    "\n",
    "It is an eigenfunction of the momentum operator $\\hat{p} = -i \\hbar \\nabla$:\n",
    "$$ \\hat{p} \\; \\Psi(x) = -i \\hbar \\nabla e^{i k x} = - i \\hbar \\frac{d}{dx} e^{i k x}$$\n",
    "$$ = - i \\hbar e^{i k x} \\cdot (i k) $$\n",
    "$$ = \\hbar k e^{i k x} = \\hbar k \\Psi(x)$$\n",
    "\n",
    "The eigenvalue is $\\hbar k$. The constant $k$ is equal to $2\\pi / \\lambda$, where $\\lambda$ is the wavelength of the particle. \n",
    "$$ k = \\frac{2\\pi}{\\lambda}$$\n",
    "According to De Broglie, the wavelength $\\lambda$ is also related to the momentum $p$:\n",
    "$$ \\lambda = \\frac{h}{p}$$\n",
    "So in total we get\n",
    "$$ k = \\frac{2\\pi}{\\lambda} = \\frac{2\\pi}{h} p = \\frac{p}{\\hbar}$$\n",
    "\n",
    "\n",
    "\n",
    "Thus, the wave function of the one-dimensional free particle reads:\n",
    "$$ \\Psi(x) = e^{i p/\\hbar x}$$"
   ]
  },
  {
   "cell_type": "code",
   "execution_count": 3,
   "id": "7a098e8d",
   "metadata": {},
   "outputs": [],
   "source": [
    "# onedimensional wave function of the free particle\n",
    "hbar = 1\n",
    "def wavefunction_free_1D(p):\n",
    "    x = box_1D()\n",
    "    psi_free_1D = np.exp(complex(0,1)*(p/hbar)*x)\n",
    "    return psi_free_1D"
   ]
  },
  {
   "cell_type": "markdown",
   "id": "d3a6d659",
   "metadata": {},
   "source": [
    "We also define a plot function:"
   ]
  },
  {
   "cell_type": "code",
   "execution_count": null,
   "id": "8f379989",
   "metadata": {
    "tags": []
   },
   "outputs": [],
   "source": [
    "def plot_free_particle(p):    \n",
    "    x = box_1D()\n",
    "    y = np.real(wavefunction_free_1D(p))\n",
    "    \n",
    "    plt.figure(figsize=(20,10))\n",
    "    plt.rcParams.update({'font.size':12})\n",
    "    plt.plot(x, y, linewidth=2, label=\"Free particle\")    \n",
    "    plt.xlim([-10,10])\n",
    "    plt.ylim([-2,2])    \n",
    "    plt.xlabel(r\"$x$\")\n",
    "    plt.ylabel(\"$\\Psi(x)$\")\n",
    "    plt.title(\"Wave function of the free particle\")\n",
    "    plt.legend()\n",
    "    clear_output(wait=True)\n",
    "\n",
    "free_particle = widgets.interactive(plot_free_particle, \\\n",
    "                                    p=widgets.FloatSlider(min=0, max=20, step=0.1, value=1, \\\n",
    "                                                          description=\"momentum $p$\", \\\n",
    "                                                          continuous_update=False \\\n",
    "                                                          ) \\\n",
    "                                    )\n",
    "display(free_particle)  "
   ]
  },
  {
   "cell_type": "markdown",
   "id": "19dbad57-0d1b-4f34-be6a-5da3a8aef783",
   "metadata": {},
   "source": [
    "One can also write the wave function $\\Psi(x)$ of the free particle as a function of the wavelength $\\lambda$."
   ]
  },
  {
   "cell_type": "code",
   "execution_count": null,
   "id": "7bba89fe-cef1-439a-9548-7f0e7165518b",
   "metadata": {
    "tags": []
   },
   "outputs": [],
   "source": [
    "def plot_free_particle_lambda(l):    \n",
    "    x = box_1D()\n",
    "    \n",
    "    psi_free_1D_lambda = np.exp(complex(0,1)*(2*np.pi/l)*x)\n",
    "    y = np.real(psi_free_1D_lambda)\n",
    "    \n",
    "    plt.figure(figsize=(20,10))\n",
    "    plt.rcParams.update({'font.size':12})\n",
    "    plt.plot(x, y, linewidth=2, label=\"Free particle\")    \n",
    "    plt.xlim([-10,10])\n",
    "    plt.ylim([-1.3,1.3])    \n",
    "    \n",
    "    # indicating the wave length\n",
    "    plt.hlines(1.05, -0.5*l,0.5*l,colors='black',linestyles='dotted')\n",
    "    plt.vlines(-0.5*l,1.1,-1.0,colors='black',linestyles='dotted')\n",
    "    plt.vlines(0.5*l,1.1,-1.0,colors='black',linestyles='dotted')\n",
    "    plt.text(0.0,1.1,r\"$\\lambda$\")\n",
    "    \n",
    "    \n",
    "    plt.xlabel(r\"$x$\")\n",
    "    plt.ylabel(\"$\\Psi(x)$\")\n",
    "    plt.title(\"Wave function of the free particle\")\n",
    "    plt.legend()\n",
    "    clear_output(wait=True)\n",
    "\n",
    "free_particle = widgets.interactive(plot_free_particle_lambda, \\\n",
    "                                    l=widgets.FloatSlider(min=0, max=20, step=0.1, value=1, \\\n",
    "                                                          description=\"Wave length $\\lambda$\", \\\n",
    "                                                          continuous_update=False \\\n",
    "                                                          ) \\\n",
    "                                    )\n",
    "display(free_particle) "
   ]
  },
  {
   "cell_type": "markdown",
   "id": "55e82991",
   "metadata": {},
   "source": [
    "## <span style=\"color:#F6A800\"> **II.** The particle in the one-dimensional box </span>\n",
    "\n",
    "In contrast to the free particle, the particle in the box is not \"free\" but can only move within the two box boundaries.\n",
    "We consider here the infinite box, _i.e._, that the box is limited at both sides by infinitely large potentials.\n",
    "\n",
    "In our example the box shall be one-dimensional and have a length $L$ of 6 units. Thereby the box shall range from $x=0$ to $x=6$."
   ]
  },
  {
   "cell_type": "code",
   "execution_count": 6,
   "id": "2f567c5c",
   "metadata": {},
   "outputs": [],
   "source": [
    "#one dimensional box:\n",
    "def particle_box():\n",
    "    #Length of the box in units of the Bohr radius\n",
    "    L=6\n",
    "    x = np.linspace(0,L,100)\n",
    "    return L, x"
   ]
  },
  {
   "cell_type": "markdown",
   "id": "3b394c3c",
   "metadata": {},
   "source": [
    "### <span style=\"color:#F6A800\"> **II.1** Wave function of the particle in the one-dimensional box </span>\n",
    "\n",
    "The wave function of the particle in the box is\n",
    "$$ \\Psi(x) = \\sqrt{\\frac{2}{L}} \\sin \\Biggl( \\frac{n_x \\pi}{L}x \\Biggl) \\; ,$$\n",
    "where $n_x$ is the quantum number, $L$ is the length of the box and $x$ is the position of the particle.\n",
    "\n",
    "We can calculate the position expectation value $\\langle x\\rangle$:\n",
    "\n",
    "$$ \\langle x\\rangle = \\int\\limits_{-\\infty}^{\\infty} \\Psi^\\ast(x) x \\Psi(x) {\\rm d}x= \\int\\limits_0^L x \\frac{2}{L} \\sin^2\\left( \\frac{n_x\\pi x}{L} \\right) {\\rm d}x = \\frac{L}{2} $$\n",
    "\n",
    "The expected position of the particle in the box is at the middle of the box!\n",
    "If you want (as bonus exercise), you can analytically solve the above integral (hint: use integration by substitution and use $y= \\frac{n_x\\pi x}{L}$, ${\\rm d}x = \\frac{L}{n_x\\pi}{\\rm d}y$, upper integration limit is $n_x\\pi$)."
   ]
  },
  {
   "cell_type": "code",
   "execution_count": 7,
   "id": "3019f556",
   "metadata": {},
   "outputs": [],
   "source": [
    "def wavefunction_box(nx):\n",
    "    L, x = particle_box()\n",
    "    psi_box = np.sqrt(2/L)*np.sin(((nx*np.pi*x)/L))\n",
    "    return psi_box\n",
    "\n",
    "#energy of the particle in the box\n",
    "def energy_box(n,L):\n",
    "    #constants in atomic units\n",
    "    m=1\n",
    "    hbar = 1\n",
    "    h = hbar * 2 * np.pi\n",
    "    \n",
    "    E_n=(n**2*h**2)/(8*m*L**2)\n",
    "    return E_n"
   ]
  },
  {
   "cell_type": "markdown",
   "id": "a6c860a2",
   "metadata": {},
   "source": [
    "Now we plot the wave function in the box. In the following interactive plot, the quantum number $n$ can be varied, and the corresponding wave function for the particle in the box can be plotted. The red lines show the two box boundaries at $x=0$ and $x=6$. If one changed the length of the box, the corresponding wave function would simply be compressed or stretched between $x=0$ and $x=L$. The shape in general and the number of maxima and minima of the wave function are not changed by this."
   ]
  },
  {
   "cell_type": "code",
   "execution_count": null,
   "id": "0a5bcb36",
   "metadata": {},
   "outputs": [],
   "source": [
    "def plot_box_1D(nx):  \n",
    "    L, x = particle_box()\n",
    "    y = wavefunction_box(nx)\n",
    "        \n",
    "    plt.figure(figsize=(20,10))   \n",
    "    plt.rcParams.update({'font.size':20})\n",
    "    \n",
    "    plt.subplot(1,2,1)\n",
    "    plt.plot(x, y, linewidth=2, label=r\"$\\Psi$\")\n",
    "    \n",
    "    #vertical lines indicate the 1D box\n",
    "    plt.vlines(0.0, -2.0, 2.0, colors='red')\n",
    "    plt.vlines(6.0, -2.0, 2.0, colors='red')\n",
    "    \n",
    "    plt.xlim([-1,7])\n",
    "    plt.ylim([-2,2])\n",
    "    \n",
    "    plt.xlabel(r\"$x$\")\n",
    "    plt.ylabel(\"$\\Psi_{n_x}(x)$\")\n",
    "    plt.title(\"Wave function of the particle in the box\")\n",
    "    plt.legend()\n",
    "    \n",
    "    plt.subplot(1,2,2)\n",
    "    plt.hlines(energy_box(nx,L), 0.0, 6.0)\n",
    "\n",
    "    #vertical lines indicate the 1D box\n",
    "    plt.vlines(0.0, -2.0, 14.0, colors=\"red\")\n",
    "    plt.vlines(6.0, -2.0, 14.0, colors=\"red\")\n",
    "\n",
    "    plt.xlim([-1,7])\n",
    "    plt.ylim([-0.01,14.0]) \n",
    "\n",
    "    plt.xlabel(r\"$x$\")\n",
    "    plt.ylabel(\"$E_n$\")\n",
    "    plt.title(\"Energy of the particle in the box\")\n",
    "    \n",
    "    clear_output(wait=True)\n",
    "    \n",
    "particle_inbox = widgets.interactive(plot_box_1D, \\\n",
    "                                     nx=widgets.IntSlider(min=1, max=10, step=1, value=1, \\\n",
    "                                                          description=\"$n_x$\" \\\n",
    "                                                          ) \\\n",
    "                                     )\n",
    "display(particle_inbox)  "
   ]
  },
  {
   "cell_type": "markdown",
   "id": "light-subcommittee",
   "metadata": {},
   "source": [
    "The energy of the particle in the box is given by\n",
    "$$ E_n = \\frac{h^2}{8mL^2} \\cdot (n_x)^2 .$$\n",
    "\n",
    "The plot above shows the energy of the particle in the box plotted for values of quantum number $n$ from 1 to 10."
   ]
  },
  {
   "cell_type": "markdown",
   "id": "9b9aab1c-95fe-45b3-a94e-c95759830428",
   "metadata": {
    "tags": []
   },
   "source": [
    "## <span style=\"color:#F6A800\"> **III.** Particle in the two-dimensional box </span>\n",
    "\n",
    "In the two-dimensional box, we have the quantum numbers $n_x$ and $n_y$, which can be varied.\n"
   ]
  },
  {
   "cell_type": "code",
   "execution_count": null,
   "id": "15c795ff",
   "metadata": {},
   "outputs": [],
   "source": [
    "#twodimensional box:\n",
    "def particle_box_2D():\n",
    "    L = 6\n",
    "    x,y = np.linspace(0,L,200), np.linspace(0,L,200)\n",
    "    X, Y = np.meshgrid(x,y)\n",
    "    return L, X, Y\n",
    "\n",
    "#corresponding wave function\n",
    "def psi_2d(x,y,nx,ny,L):\n",
    "    psi_2d_x = np.sin((nx * np.pi * x)/L)\n",
    "    psi_2d_y = np.sin((ny * np.pi * y)/L)\n",
    "    \n",
    "    # including norm factor\n",
    "    psi_2d = (2/L)**0.5 * psi_2d_x * psi_2d_y \n",
    "    return psi_2d\n",
    "\n",
    "#corresponding probability\n",
    "def psi2_2d(x,y,nx,ny,L):\n",
    "    current_psi = psi_2d(x,y,nx,ny,L)\n",
    "    return current_psi * current_psi\n",
    "\n",
    "# plot probability density as a function of quantum numbers\n",
    "def plot_box_2D(nx,ny):\n",
    "    L, X, Y = particle_box_2D()\n",
    "\n",
    "    fig = plt.figure(figsize=(20,10))   \n",
    "    plt.rcParams.update({'font.size':20})\n",
    "\n",
    "    ax1 = plt.subplot(1,2,1,projection='3d')  \n",
    "    psi = np.array([psi_2d(x,y,nx,ny,L) for x,y in zip (np.ravel(X),np.ravel(Y))])\n",
    "    PSI = psi.reshape(X.shape)\n",
    "    ax1.plot_surface(X,Y,PSI, cmap='inferno')\n",
    "    plt.xlabel('X')\n",
    "    plt.ylabel('Y')\n",
    "    ax1.set_zlabel('Z')\n",
    "    plt.title(\"2D wave function\")\n",
    "\n",
    "    ax2 = plt.subplot(1,2,2,projection='3d')    \n",
    "    psi2 = np.array([psi2_2d(x,y,nx,ny,L) for x,y in zip (np.ravel(X),np.ravel(Y))])\n",
    "    PSI2 = psi2.reshape(X.shape)\n",
    "    ax2.plot_surface(X,Y,PSI2, cmap='inferno')\n",
    "    plt.xlabel('X')\n",
    "    plt.ylabel('Y')\n",
    "    ax2.set_zlabel('Z')\n",
    "    plt.title(\"Probability density of 2D wave function\")\n",
    "    \n",
    "particle_inbox_2D = widgets.interactive(plot_box_2D, \\\n",
    "                                        nx=widgets.IntSlider(min=1, max=10, step=1, value=1, \\\n",
    "                                                             description=\"$n_x$\" \\\n",
    "                                                             ), \\\n",
    "                                        ny=widgets.IntSlider(min=1, max=10, step=1, value=1, \\\n",
    "                                                             description=\"$n_y$\" \\\n",
    "                                                             ) \\\n",
    "                                        )\n",
    "display(particle_inbox_2D)     "
   ]
  },
  {
   "cell_type": "markdown",
   "id": "ce7db21e-15f7-4ae3-8eb0-ae4faa3ba16a",
   "metadata": {},
   "source": [
    "The energy is composed of the components for the $x$ and $y$ directions:\n",
    "\n",
    "$$ E_n = E_{n_x} + E_{n_y} = \\frac{h^2}{8 m L^2} \\Bigl( n_x^2 + n_y^2 \\Bigl) $$"
   ]
  },
  {
   "cell_type": "code",
   "execution_count": null,
   "id": "b9a2f73f-fd14-4d89-b079-15faaf68220f",
   "metadata": {},
   "outputs": [],
   "source": [
    "def print_En(nx,ny):\n",
    "    L, _, _ = particle_box_2D()\n",
    "    En = energy_box(nx,L) + energy_box(ny,L)\n",
    "    print(\"En = %8.3f Hartree\"%En)\n",
    "    clear_output(wait=True)\n",
    "    \n",
    "energy_inbox = widgets.interactive(print_En, \\\n",
    "                                   nx=widgets.IntSlider(min=1, max=10, step=1, value=1, \\\n",
    "                                                        description=\"$n_x$\" \\\n",
    "                                                        ), \\\n",
    "                                   ny=widgets.IntSlider(min=1, max=10, step=1, value=1, \\\n",
    "                                                        description=\"$n_y$\" \\\n",
    "                                                        ) \\\n",
    "                                   )\n",
    "display(energy_inbox)  "
   ]
  }
 ],
 "metadata": {
  "kernelspec": {
   "display_name": "teaching",
   "language": "python",
   "name": "teaching"
  },
  "language_info": {
   "codemirror_mode": {
    "name": "ipython",
    "version": 3
   },
   "file_extension": ".py",
   "mimetype": "text/x-python",
   "name": "python",
   "nbconvert_exporter": "python",
   "pygments_lexer": "ipython3",
   "version": "3.7.11"
  }
 },
 "nbformat": 4,
 "nbformat_minor": 5
}
